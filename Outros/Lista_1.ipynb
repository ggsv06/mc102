{
 "cells": [
  {
   "cell_type": "markdown",
   "metadata": {},
   "source": [
    "3. Faça um programa que leia um número ponto flutuante x e calcule o valor de\n",
    "f (x) =√x + (x/2) + x^x."
   ]
  },
  {
   "cell_type": "code",
   "execution_count": null,
   "metadata": {},
   "outputs": [],
   "source": [
    "x = float(input('Digite um valor float: '))\n",
    "f = x**(1/2) + x/2 + x**x\n",
    "print(f'\\nf({x}) = ',f)"
   ]
  },
  {
   "cell_type": "markdown",
   "metadata": {},
   "source": [
    "4. Faça um programa que leia dois valores inteiros nas variáveis x e y e troque o conteúdo\n",
    "das variáveis. Por exemplo, supondo que x = 2 e y = 10 foram os valores lidos, o seu\n",
    "programa deve fazer com que x = 10 e y = 2. Refaça este problema usando apenas x e y\n",
    "como variáveis."
   ]
  },
  {
   "cell_type": "code",
   "execution_count": null,
   "metadata": {},
   "outputs": [],
   "source": [
    "x = input('x = ')\n",
    "y = input('y = ')\n",
    "# Primeiro modo\n",
    "# c = y\n",
    "# y = x\n",
    "# x = c\n",
    "# Segundo modo\n",
    "x,y = y,x\n",
    "# Print\n",
    "print(f'x = {x}\\ny = {y}')"
   ]
  },
  {
   "cell_type": "markdown",
   "metadata": {},
   "source": [
    "5. Faça um programa que leia os valores correspondentes aos três lados a, b e c de um triângulo. O programa então deve determinar se o triângulo é isósceles, escaleno ou equilátero, informando isto para o usuário, e em seguida o programa deve imprimir a área A do triângulo utilizando a fórmula de Heron:\n",
    "A = √(s(s − a)(s − b)(s − c))\n",
    "onde\n",
    "s = (a + b + c)/2"
   ]
  },
  {
   "cell_type": "code",
   "execution_count": null,
   "metadata": {},
   "outputs": [],
   "source": [
    "def area(a, b, c):\n",
    "  S = (a+b+c)/2\n",
    "  A = (S*(S-a)*(S-b)*(S-c))**(1/2)\n",
    "\n",
    "  if type(A) != complex:\n",
    "    return f'A área do triângulo vale aprox. {A:.3f}'\n",
    "  else:\n",
    "   return 'O triângulo não existe'\n",
    "\n",
    "def tipo(a, b, c):\n",
    "  if a+b>c and a+c>b and b+c>a:\n",
    "    if a==b and a==c and b==c:\n",
    "      return 'Triângulo equilátero'\n",
    "    elif a!=b and a!=c and b!=c:\n",
    "      return 'Triângulo escaleno'\n",
    "    else:\n",
    "      return 'Triângulo isósceles'\n",
    "  else:\n",
    "    return 'O triângulo não existe'\n",
    "\n",
    "a = float(input('lado a = '))\n",
    "b = float(input('lado b = '))\n",
    "c = float(input('lado c = '))\n",
    "\n",
    "print(f'{tipo(a,b,c)}\\n{area(a,b,c)}' if tipo(a, b, c) != area(a, b, c) else tipo(a,b,c))"
   ]
  },
  {
   "cell_type": "markdown",
   "metadata": {},
   "source": []
  }
 ],
 "metadata": {
  "language_info": {
   "name": "python"
  }
 },
 "nbformat": 4,
 "nbformat_minor": 2
}
